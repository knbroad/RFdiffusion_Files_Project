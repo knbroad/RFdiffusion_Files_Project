{
 "cells": [
  {
   "cell_type": "markdown",
   "id": "5059ae8b",
   "metadata": {},
   "source": [
    "After installing the below software, you can run the whole notebook at once\n",
    "\n",
    "## Required Software\n",
    "\n",
    "| Software | Installation |\n",
    "| :------- | :----------- |\n",
    "| **wget** | From [EternallyBored](https://eternallybored.org/misc/wget/), download the most recent `wget` exe file for x64. (If you have malware protection on the browser, it may warn you about the site. This is only because some hacking tools are hosted there, not because this exe will cause a virus. Go ahead and ignore the warning). Find where the exe file downloaded, and move the file into `C:/Windows/System32` |\n",
    "| **aria2c** | Follow this short (~2:45) [YouTube video](https://www.youtube.com/watch?v=VoMPvY0KtaQ) to install. |\n",
    "| **docker** | Download the installer for **Docker Desktop for Windows** from the [Docker website](https://docs.docker.com/desktop/install/windows-install/) and follow install instructions. You can also just install Docker CLI. |\n",
    "| **conda** | Download and install [Miniconda](https://docs.conda.io/en/latest/miniconda.html) to get conda. You may have done this already if you have Anaconda to launch jupyter. |"
   ]
  },
  {
   "cell_type": "markdown",
   "id": "2941a050",
   "metadata": {},
   "source": [
    "### Imports"
   ]
  },
  {
   "cell_type": "code",
   "execution_count": 2,
   "id": "9e93fff5",
   "metadata": {},
   "outputs": [],
   "source": [
    "import pathlib as pl\n",
    "from subprocess import Popen\n",
    "import os"
   ]
  },
  {
   "cell_type": "markdown",
   "id": "05f5b3ed",
   "metadata": {},
   "source": [
    "### Paths for installation\n",
    "\n",
    "Change these to be what folder you want the code in."
   ]
  },
  {
   "cell_type": "code",
   "execution_count": 3,
   "id": "6860a15a",
   "metadata": {},
   "outputs": [],
   "source": [
    "root = pl.Path(r'C:\\Users\\kelly\\Documents\\Code')"
   ]
  },
  {
   "cell_type": "markdown",
   "id": "c514faad",
   "metadata": {},
   "source": [
    "### Cloning Repository\n",
    "\n",
    "Replicates [RFDiffusion Repository](https://github.com/RosettaCommons/RFdiffusion) into a folder called `RFDiffusion` in the root directory you defined above"
   ]
  },
  {
   "cell_type": "code",
   "execution_count": 4,
   "id": "4b849a95",
   "metadata": {},
   "outputs": [
    {
     "name": "stdout",
     "output_type": "stream",
     "text": [
      "Found repository at C:\\Users\\kelly\\Documents\\Code\\RFDiffusion\n"
     ]
    }
   ],
   "source": [
    "os.chdir(root) # move into root directory\n",
    "\n",
    "repo_path = root/\"RFDiffusion\"\n",
    "\n",
    "if not repo_path.is_dir():\n",
    "    print(\"Cloning RFDiffusion Github Repository\")\n",
    "    os.system(r'git clone https://github.com/RosettaCommons/RFdiffusion.git')\n",
    "else:\n",
    "    print(f\"Found repository at {repo_path}\")"
   ]
  },
  {
   "cell_type": "markdown",
   "id": "b0a32577",
   "metadata": {},
   "source": [
    "### Downloading models"
   ]
  },
  {
   "cell_type": "code",
   "execution_count": 5,
   "id": "180d0560",
   "metadata": {},
   "outputs": [
    {
     "name": "stdout",
     "output_type": "stream",
     "text": [
      "Checking for models from http://files.ipd.uw.edu/pub/RFdiffusion/\n",
      "All files are already downloaded in C:\\Users\\kelly\\Documents\\Code\\RFDiffusion\\models\n"
     ]
    }
   ],
   "source": [
    "models_path = repo_path/\"models\"\n",
    "addr = r'http://files.ipd.uw.edu/pub/RFdiffusion/'\n",
    "models = {\n",
    "    '6f5902ac237024bdd0c176cb93063dc4/':'Base_ckpt.pt',\n",
    "    'e29311f6f1bf1af907f9ef9f44b8328b/':'Complex_base_ckpt.pt',\n",
    "    '60f09a193fb5e5ccdc4980417708dbab/':'Complex_Fold_base_ckpt.pt',\n",
    "    '74f51cfb8b440f50d70878e05361d8f0/':'InpaintSeq_ckpt.pt',\n",
    "    '76d00716416567174cdb7ca96e208296/':'InpaintSeq_Fold_ckpt.pt',\n",
    "    '5532d2e1f3a4738decd58b19d633b3c3/':'ActiveSite_ckpt.pt',\n",
    "    '12fc204edeae5b57713c5ad7dcb97d39/':'Base_epoch8_ckpt.pt',\n",
    "    'f572d396fae9206628714fb2ce00f72e/':'Complex_beta_ckpt.pt',\n",
    "    '1befcb9b28e2f778f53d47f18b7597fa/':'RF_structure_prediction_weights.pt'\n",
    "}\n",
    "\n",
    "if not models_path.is_dir():\n",
    "    os.mkdir(models_path)\n",
    "    print(f\"Created models directory at {models_path}\")\n",
    "os.chdir(models_path)\n",
    "\n",
    "processes = []\n",
    "print(f\"Checking for models from {addr}\")\n",
    "for folder, model in models.items():\n",
    "    if not (models_path/model).is_file():\n",
    "        print(f\"Beginning download for {model} model\")\n",
    "        processes.append(Popen(f\"wget {addr}{folder}{model}\", shell=True))\n",
    "\n",
    "if len(processes) == 0:\n",
    "    print(f\"All files are already downloaded in {models_path}\")\n",
    "for process in processes:\n",
    "    process.wait()\n",
    "    print(\"Finished\", process.args)"
   ]
  },
  {
   "cell_type": "markdown",
   "id": "b3118973",
   "metadata": {},
   "source": [
    "### Installing [NVIDIA's implementation of SE(3)-Transformers](https://developer.nvidia.com/blog/accelerating-se3-transformers-training-using-an-nvidia-open-source-model-implementation/)"
   ]
  },
  {
   "cell_type": "code",
   "execution_count": 6,
   "id": "0016e0b9",
   "metadata": {},
   "outputs": [],
   "source": [
    "env_path = repo_path/'env'\n",
    "se3_path = env_path/'SE3Transformer'"
   ]
  },
  {
   "cell_type": "code",
   "execution_count": 11,
   "id": "60650f09",
   "metadata": {
    "collapsed": true
   },
   "outputs": [
    {
     "data": {
      "text/plain": [
       "0"
      ]
     },
     "execution_count": 11,
     "metadata": {},
     "output_type": "execute_result"
    }
   ],
   "source": [
    "bat_cmd = f\"conda env create -f {env_path/'SE3nv.yml'}\\n\\\n",
    "    conda activate SE3nv\\n\\\n",
    "    cd {se3_path}\\n\\\n",
    "    pip install --no-cache-dir -r requirements.txt\\n\\\n",
    "    python setup.py install\\n\\\n",
    "    cd {repo_path}\\n\\\n",
    "    pip install -e .\"\n",
    "os.chdir(env_path)\n",
    "with open('conda_setup.bat', 'w') as f:\n",
    "    f.write(bat_cmd)\n",
    "os.system(f'start cmd /k conda_setup.bat');"
   ]
  },
  {
   "cell_type": "markdown",
   "id": "47e05b31",
   "metadata": {},
   "source": [
    "This should be set up correctly. Make sure to restart jupyter before running RFDiffusion"
   ]
  }
 ],
 "metadata": {
  "kernelspec": {
   "display_name": "Python 3 (ipykernel)",
   "language": "python",
   "name": "python3"
  },
  "language_info": {
   "codemirror_mode": {
    "name": "ipython",
    "version": 3
   },
   "file_extension": ".py",
   "mimetype": "text/x-python",
   "name": "python",
   "nbconvert_exporter": "python",
   "pygments_lexer": "ipython3",
   "version": "3.11.4"
  }
 },
 "nbformat": 4,
 "nbformat_minor": 5
}
