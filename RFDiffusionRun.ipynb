{
 "cells": [
  {
   "cell_type": "code",
   "execution_count": 9,
   "id": "4dddb84b",
   "metadata": {},
   "outputs": [],
   "source": [
    "import pathlib as pl\n",
    "import os"
   ]
  },
  {
   "cell_type": "code",
   "execution_count": 13,
   "id": "8232fb56",
   "metadata": {},
   "outputs": [],
   "source": [
    "save_directory = pl.Path(r'C:\\Users\\kelly\\Documents\\Code\\RFDiffusionOutput')\n",
    "try: os.makedirs(save_directory)\n",
    "except FileExistsError: pass"
   ]
  },
  {
   "cell_type": "markdown",
   "id": "18668f33",
   "metadata": {},
   "source": [
    "## Backbone generation\n",
    "\n",
    "- `iterations` are restricted to 25, 50, 100, 150, 200\n",
    "- `num_designs` are restricted to 1, 2, 4, 8, 16, 32\n",
    "- `visual` options are \"none\", \"image\", \"interactive\"\n",
    "- `symmetry` options are \"none\", \"auto\", \"cyclic\", \"dihedral\"\n",
    "    - `symmetry='auto'` enables automatic symmetry dectection with [AnAnaS](https://team.inria.fr/nano-d/software/ananas/).\n",
    "- `order` is capped at 12\n",
    "- `chains=\"A,B\"` filter PDB input to these chains (may help auto-symm detector)\n",
    "- `add_potential` to discourage clashes between chains\n",
    "\n",
    "### Contigs Instructions\n",
    "\n",
    "Use `contigs` to define continious chains. Use a `:` to define multiple contigs and a `/` to define mutliple segments within a contig. \n",
    "For example:\n",
    "\n",
    "**unconditional**\n",
    "- `contigs='100'` - diffuse **monomer** of length 100\n",
    "- `contigs='50:100'` - diffuse **hetero-oligomer** of lengths 50 and 100\n",
    "- `contigs='50'` `symmetry='cyclic'` `order=2` - make two copies of the defined contig(s) and add a symmetry constraint, for **homo-oligomeric** diffusion.\n",
    "\n",
    "**binder design**\n",
    "- `contigs='A:50'` `pdb='4N5T'` - diffuse a **binder** of length 50 to chain A of defined PDB.\n",
    "- `contigs='E6-155:70-100'` `pdb='5KQV'` `hotspot='E64,E88,E96'` - diffuse a **binder** of length 70 to 100 (sampled randomly) to chain E and defined hotspot(s).\n",
    "\n",
    "**motif scaffolding**\n",
    " - `contigs='40/A163-181/40'` `pdb='5TPN'`\n",
    " - `contigs='A3-30/36/A33-68'` `pdb='6MRR'` - diffuse a loop of length 36 between two segments of defined PDB ranges.\n",
    "\n",
    "**partial diffusion**\n",
    "- `contigs=''` `pdb='6MRR'` - noise all coordinates\n",
    "- `contigs='A1-10'` `pdb='6MRR'` - keep first 10 positions fixed, noise the rest\n",
    "- `contigs='A'` `pdb='1SSC'` - fix chain A, noise the rest\n",
    "\n",
    "*hints and tips*\n",
    "- `pdb=''` leave blank to get an upload prompt\n",
    "- `contigs='50-100'` use dash to specify a range of lengths to sample from"
   ]
  },
  {
   "cell_type": "code",
   "execution_count": 4,
   "id": "162e0e74",
   "metadata": {},
   "outputs": [],
   "source": [
    "name = \"test\"\n",
    "contigs = \"100\"\n",
    "pdb = \"\"\n",
    "hotspot = \"\"\n",
    "\n",
    "iterations = 50\n",
    "num_designs = 1\n",
    "visual = \"image\"\n",
    "\n",
    "symmetry = \"none\"\n",
    "order = 1\n",
    "chains = \"\"\n",
    "add_potential = True"
   ]
  },
  {
   "cell_type": "markdown",
   "id": "33a6ba05",
   "metadata": {},
   "source": [
    "Run the following cell to generate a backbone"
   ]
  },
  {
   "cell_type": "code",
   "execution_count": 6,
   "id": "2ee13696",
   "metadata": {},
   "outputs": [],
   "source": []
  },
  {
   "cell_type": "code",
   "execution_count": 14,
   "id": "6b7c9e3e",
   "metadata": {},
   "outputs": [
    {
     "ename": "NameError",
     "evalue": "name 'fix_contigs' is not defined",
     "output_type": "error",
     "traceback": [
      "\u001b[1;31m---------------------------------------------------------------------------\u001b[0m",
      "\u001b[1;31mNameError\u001b[0m                                 Traceback (most recent call last)",
      "Cell \u001b[1;32mIn[14], line 24\u001b[0m\n\u001b[0;32m     21\u001b[0m     \u001b[38;5;28;01mif\u001b[39;00m \u001b[38;5;28misinstance\u001b[39m(v,\u001b[38;5;28mstr\u001b[39m):\n\u001b[0;32m     22\u001b[0m         flags[k] \u001b[38;5;241m=\u001b[39m v\u001b[38;5;241m.\u001b[39mreplace(\u001b[38;5;124m\"\u001b[39m\u001b[38;5;124m'\u001b[39m\u001b[38;5;124m\"\u001b[39m,\u001b[38;5;124m\"\u001b[39m\u001b[38;5;124m\"\u001b[39m)\u001b[38;5;241m.\u001b[39mreplace(\u001b[38;5;124m'\u001b[39m\u001b[38;5;124m\"\u001b[39m\u001b[38;5;124m'\u001b[39m,\u001b[38;5;124m'\u001b[39m\u001b[38;5;124m'\u001b[39m)\n\u001b[1;32m---> 24\u001b[0m contigs, copies \u001b[38;5;241m=\u001b[39m \u001b[43mrun_diffusion\u001b[49m\u001b[43m(\u001b[49m\u001b[38;5;241;43m*\u001b[39;49m\u001b[38;5;241;43m*\u001b[39;49m\u001b[43mflags\u001b[49m\u001b[43m)\u001b[49m\n",
      "Cell \u001b[1;32mIn[6], line 88\u001b[0m, in \u001b[0;36mrun_diffusion\u001b[1;34m(contigs, path, pdb, iterations, symmetry, order, hotspot, chains, add_potential, num_designs, visual)\u001b[0m\n\u001b[0;32m     86\u001b[0m     opts\u001b[38;5;241m.\u001b[39mappend(\u001b[38;5;124mf\u001b[39m\u001b[38;5;124m\"\u001b[39m\u001b[38;5;124mdiffuser.T=\u001b[39m\u001b[38;5;132;01m{\u001b[39;00miterations\u001b[38;5;132;01m}\u001b[39;00m\u001b[38;5;124m\"\u001b[39m)\n\u001b[0;32m     87\u001b[0m     parsed_pdb \u001b[38;5;241m=\u001b[39m \u001b[38;5;28;01mNone\u001b[39;00m  \n\u001b[1;32m---> 88\u001b[0m     contigs \u001b[38;5;241m=\u001b[39m \u001b[43mfix_contigs\u001b[49m(contigs, parsed_pdb)\n\u001b[0;32m     90\u001b[0m \u001b[38;5;28;01mif\u001b[39;00m hotspot \u001b[38;5;129;01mis\u001b[39;00m \u001b[38;5;129;01mnot\u001b[39;00m \u001b[38;5;28;01mNone\u001b[39;00m \u001b[38;5;129;01mand\u001b[39;00m hotspot \u001b[38;5;241m!=\u001b[39m \u001b[38;5;124m\"\u001b[39m\u001b[38;5;124m\"\u001b[39m:\n\u001b[0;32m     91\u001b[0m     opts\u001b[38;5;241m.\u001b[39mappend(\u001b[38;5;124mf\u001b[39m\u001b[38;5;124m\"\u001b[39m\u001b[38;5;124mppi.hotspot_res=[\u001b[39m\u001b[38;5;132;01m{\u001b[39;00mhotspot\u001b[38;5;132;01m}\u001b[39;00m\u001b[38;5;124m]\u001b[39m\u001b[38;5;124m\"\u001b[39m)\n",
      "\u001b[1;31mNameError\u001b[0m: name 'fix_contigs' is not defined"
     ]
    }
   ],
   "source": []
  }
 ],
 "metadata": {
  "kernelspec": {
   "display_name": "Python 3 (ipykernel)",
   "language": "python",
   "name": "python3"
  },
  "language_info": {
   "codemirror_mode": {
    "name": "ipython",
    "version": 3
   },
   "file_extension": ".py",
   "mimetype": "text/x-python",
   "name": "python",
   "nbconvert_exporter": "python",
   "pygments_lexer": "ipython3",
   "version": "3.11.4"
  }
 },
 "nbformat": 4,
 "nbformat_minor": 5
}
